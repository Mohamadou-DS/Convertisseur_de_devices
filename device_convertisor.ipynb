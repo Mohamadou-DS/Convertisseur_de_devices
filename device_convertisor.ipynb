import gradio as gr
import requests

API_KEY = "a6a0b1aa6acb13c09154f55e1183db15"
BASE_URL = "http://data.fixer.io/api/latest"

def taux_dechange():
    response = requests.get(BASE_URL, params={"access_key": API_KEY})
    if response.status_code == 200:
        data = response.json()
        if data.get("success"):
            return data["rates"]
        else:
            return {"error": data.get("error", "Erreur inconnue")}
    else:
        return {"error": "Impossible d'accéder à l'API"}

def devices_convertisor(montant, device_cible):
    taux = taux_dechange()
    if "error" in taux:
        return f"Erreur : {taux['error']}"

    try:
        taux_cible = taux[device_cible]
        montant_converti = montant * taux_cible
        return f"{montant:.2f} EUR équivaut à {montant_converti:.2f} {device_cible}"
    except KeyError:
        return "Devise non prise en charge."

currencies = ["USD", "GBP", "MRU", "XOF", "CAD", "AUD", "JPY"]

def interface():
    with gr.Blocks() as demo:
        gr.Markdown("Convertisseur de devises depuis l'EURO (€)")

        montant = gr.Number(label="Montant en EUR (€)")
        device_cible = gr.Dropdown(choices=currencies, label="Convertir en")

        output = gr.Textbox(label="Résultat")
        convert_button = gr.Button("Convertir")

        convert_button.click(
            fn=devices_convertisor,
            inputs=[montant, device_cible],
            outputs=output,
        )

    return demo

if __name__ == "__main__":
    interface().launch()
